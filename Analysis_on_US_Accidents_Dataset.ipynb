{
  "nbformat": 4,
  "nbformat_minor": 0,
  "metadata": {
    "colab": {
      "provenance": [],
      "collapsed_sections": [
        "ycrQ1vTrzjME"
      ],
      "authorship_tag": "ABX9TyM1xo0irwwjWfTzTFSAGNJN",
      "include_colab_link": true
    },
    "kernelspec": {
      "name": "python3",
      "display_name": "Python 3"
    },
    "language_info": {
      "name": "python"
    }
  },
  "cells": [
    {
      "cell_type": "markdown",
      "metadata": {
        "id": "view-in-github",
        "colab_type": "text"
      },
      "source": [
        "<a href=\"https://colab.research.google.com/github/Sriyanka24/Analysis-on-US-Accidents-Dataset/blob/main/Analysis_on_US_Accidents_Dataset.ipynb\" target=\"_parent\"><img src=\"https://colab.research.google.com/assets/colab-badge.svg\" alt=\"Open In Colab\"/></a>"
      ]
    },
    {
      "cell_type": "markdown",
      "source": [
        "#US Accidents Data Analysis\n"
      ],
      "metadata": {
        "id": "2zCHtNP2zWIn"
      }
    },
    {
      "cell_type": "markdown",
      "source": [
        "##Environment setup"
      ],
      "metadata": {
        "id": "ycrQ1vTrzjME"
      }
    },
    {
      "cell_type": "code",
      "execution_count": 1,
      "metadata": {
        "colab": {
          "base_uri": "https://localhost:8080/"
        },
        "id": "fMQt3FFavCtA",
        "outputId": "9c5822a2-063e-4051-9419-7351e1f9fb4f"
      },
      "outputs": [
        {
          "output_type": "stream",
          "name": "stdout",
          "text": [
            "Looking in indexes: https://pypi.org/simple, https://us-python.pkg.dev/colab-wheels/public/simple/\n",
            "Requirement already satisfied: kaggle in /usr/local/lib/python3.8/dist-packages (1.5.12)\n",
            "Requirement already satisfied: python-dateutil in /usr/local/lib/python3.8/dist-packages (from kaggle) (2.8.2)\n",
            "Requirement already satisfied: urllib3 in /usr/local/lib/python3.8/dist-packages (from kaggle) (1.24.3)\n",
            "Requirement already satisfied: tqdm in /usr/local/lib/python3.8/dist-packages (from kaggle) (4.64.1)\n",
            "Requirement already satisfied: requests in /usr/local/lib/python3.8/dist-packages (from kaggle) (2.23.0)\n",
            "Requirement already satisfied: certifi in /usr/local/lib/python3.8/dist-packages (from kaggle) (2022.9.24)\n",
            "Requirement already satisfied: six>=1.10 in /usr/local/lib/python3.8/dist-packages (from kaggle) (1.15.0)\n",
            "Requirement already satisfied: python-slugify in /usr/local/lib/python3.8/dist-packages (from kaggle) (7.0.0)\n",
            "Requirement already satisfied: text-unidecode>=1.3 in /usr/local/lib/python3.8/dist-packages (from python-slugify->kaggle) (1.3)\n",
            "Requirement already satisfied: idna<3,>=2.5 in /usr/local/lib/python3.8/dist-packages (from requests->kaggle) (2.10)\n",
            "Requirement already satisfied: chardet<4,>=3.0.2 in /usr/local/lib/python3.8/dist-packages (from requests->kaggle) (3.0.4)\n"
          ]
        }
      ],
      "source": [
        "! pip install kaggle\n",
        "! mkdir ~/.kaggle\n",
        "! cp kaggle.json ~/.kaggle/\n",
        "! chmod 600 ~/.kaggle/kaggle.json"
      ]
    },
    {
      "cell_type": "code",
      "source": [
        "! kaggle datasets download -d sobhanmoosavi/us-accidents"
      ],
      "metadata": {
        "colab": {
          "base_uri": "https://localhost:8080/"
        },
        "id": "njaKXJsxvOok",
        "outputId": "9a0332f3-733e-44ad-82da-eb24293d2f64"
      },
      "execution_count": 2,
      "outputs": [
        {
          "output_type": "stream",
          "name": "stdout",
          "text": [
            "Downloading us-accidents.zip to /content\n",
            "100% 268M/269M [00:01<00:00, 217MB/s]\n",
            "100% 269M/269M [00:01<00:00, 209MB/s]\n"
          ]
        }
      ]
    },
    {
      "cell_type": "code",
      "source": [
        "! unzip \"/content/us-accidents.zip\" -d \"/content/data\""
      ],
      "metadata": {
        "colab": {
          "base_uri": "https://localhost:8080/"
        },
        "id": "KSYq9otPvQl9",
        "outputId": "545100dc-d9a0-4f6e-cd3c-3c236fc37390"
      },
      "execution_count": 3,
      "outputs": [
        {
          "output_type": "stream",
          "name": "stdout",
          "text": [
            "Archive:  /content/us-accidents.zip\n",
            "  inflating: /content/data/US_Accidents_Dec21_updated.csv  \n"
          ]
        }
      ]
    },
    {
      "cell_type": "code",
      "source": [
        "data_path = '/content/data/US_Accidents_Dec21_updated.csv'"
      ],
      "metadata": {
        "id": "T8avD4lfys9w"
      },
      "execution_count": 4,
      "outputs": []
    },
    {
      "cell_type": "markdown",
      "source": [
        "##Data Preparation and Cleaning"
      ],
      "metadata": {
        "id": "WVr8vJYqzz2o"
      }
    },
    {
      "cell_type": "code",
      "source": [
        "import pandas as pd\n",
        "import numpy as np\n",
        "import matplotlib.pyplot as plt\n",
        "import seaborn as sns\n",
        "sns.set_style('whitegrid')\n",
        "#% matplotlib inline"
      ],
      "metadata": {
        "id": "dYzjSOtgz47B"
      },
      "execution_count": 6,
      "outputs": []
    },
    {
      "cell_type": "code",
      "source": [
        "df = pd.read_csv(data_path)"
      ],
      "metadata": {
        "id": "VH-FQsmh2SPi"
      },
      "execution_count": 7,
      "outputs": []
    },
    {
      "cell_type": "code",
      "source": [
        "df"
      ],
      "metadata": {
        "id": "TqglX6Ss2Wqy",
        "colab": {
          "base_uri": "https://localhost:8080/",
          "height": 939
        },
        "outputId": "2ce81a29-2048-4e79-868d-2cbcb3539a75"
      },
      "execution_count": 8,
      "outputs": [
        {
          "output_type": "execute_result",
          "data": {
            "text/plain": [
              "                ID  Severity           Start_Time             End_Time  \\\n",
              "0              A-1         3  2016-02-08 00:37:08  2016-02-08 06:37:08   \n",
              "1              A-2         2  2016-02-08 05:56:20  2016-02-08 11:56:20   \n",
              "2              A-3         2  2016-02-08 06:15:39  2016-02-08 12:15:39   \n",
              "3              A-4         2  2016-02-08 06:51:45  2016-02-08 12:51:45   \n",
              "4              A-5         3  2016-02-08 07:53:43  2016-02-08 13:53:43   \n",
              "...            ...       ...                  ...                  ...   \n",
              "2845337  A-2845338         2  2019-08-23 18:03:25  2019-08-23 18:32:01   \n",
              "2845338  A-2845339         2  2019-08-23 19:11:30  2019-08-23 19:38:23   \n",
              "2845339  A-2845340         2  2019-08-23 19:00:21  2019-08-23 19:28:49   \n",
              "2845340  A-2845341         2  2019-08-23 19:00:21  2019-08-23 19:29:42   \n",
              "2845341  A-2845342         2  2019-08-23 18:52:06  2019-08-23 19:21:31   \n",
              "\n",
              "         Start_Lat   Start_Lng    End_Lat     End_Lng  Distance(mi)  \\\n",
              "0        40.108910  -83.092860  40.112060  -83.031870         3.230   \n",
              "1        39.865420  -84.062800  39.865010  -84.048730         0.747   \n",
              "2        39.102660  -84.524680  39.102090  -84.523960         0.055   \n",
              "3        41.062130  -81.537840  41.062170  -81.535470         0.123   \n",
              "4        39.172393  -84.492792  39.170476  -84.501798         0.500   \n",
              "...            ...         ...        ...         ...           ...   \n",
              "2845337  34.002480 -117.379360  33.998880 -117.370940         0.543   \n",
              "2845338  32.766960 -117.148060  32.765550 -117.153630         0.338   \n",
              "2845339  33.775450 -117.847790  33.777400 -117.857270         0.561   \n",
              "2845340  33.992460 -118.403020  33.983110 -118.395650         0.772   \n",
              "2845341  34.133930 -117.230920  34.137360 -117.239340         0.537   \n",
              "\n",
              "                                               Description  ...  Roundabout  \\\n",
              "0        Between Sawmill Rd/Exit 20 and OH-315/Olentang...  ...       False   \n",
              "1                       At OH-4/OH-235/Exit 41 - Accident.  ...       False   \n",
              "2                         At I-71/US-50/Exit 1 - Accident.  ...       False   \n",
              "3                          At Dart Ave/Exit 21 - Accident.  ...       False   \n",
              "4                       At Mitchell Ave/Exit 6 - Accident.  ...       False   \n",
              "...                                                    ...  ...         ...   \n",
              "2845337                           At Market St - Accident.  ...       False   \n",
              "2845338    At Camino Del Rio/Mission Center Rd - Accident.  ...       False   \n",
              "2845339  At Glassell St/Grand Ave - Accident. in the ri...  ...       False   \n",
              "2845340     At CA-90/Marina Fwy/Jefferson Blvd - Accident.  ...       False   \n",
              "2845341              At Highland Ave/Arden Ave - Accident.  ...       False   \n",
              "\n",
              "        Station   Stop Traffic_Calming Traffic_Signal Turning_Loop  \\\n",
              "0         False  False           False          False        False   \n",
              "1         False  False           False          False        False   \n",
              "2         False  False           False          False        False   \n",
              "3         False  False           False          False        False   \n",
              "4         False  False           False          False        False   \n",
              "...         ...    ...             ...            ...          ...   \n",
              "2845337   False  False           False          False        False   \n",
              "2845338   False  False           False          False        False   \n",
              "2845339   False  False           False          False        False   \n",
              "2845340   False  False           False          False        False   \n",
              "2845341   False  False           False          False        False   \n",
              "\n",
              "        Sunrise_Sunset Civil_Twilight Nautical_Twilight Astronomical_Twilight  \n",
              "0                Night          Night             Night                 Night  \n",
              "1                Night          Night             Night                 Night  \n",
              "2                Night          Night             Night                   Day  \n",
              "3                Night          Night               Day                   Day  \n",
              "4                  Day            Day               Day                   Day  \n",
              "...                ...            ...               ...                   ...  \n",
              "2845337            Day            Day               Day                   Day  \n",
              "2845338            Day            Day               Day                   Day  \n",
              "2845339            Day            Day               Day                   Day  \n",
              "2845340            Day            Day               Day                   Day  \n",
              "2845341            Day            Day               Day                   Day  \n",
              "\n",
              "[2845342 rows x 47 columns]"
            ],
            "text/html": [
              "\n",
              "  <div id=\"df-3ebd45df-3d01-4070-8edf-d341f1a768ae\">\n",
              "    <div class=\"colab-df-container\">\n",
              "      <div>\n",
              "<style scoped>\n",
              "    .dataframe tbody tr th:only-of-type {\n",
              "        vertical-align: middle;\n",
              "    }\n",
              "\n",
              "    .dataframe tbody tr th {\n",
              "        vertical-align: top;\n",
              "    }\n",
              "\n",
              "    .dataframe thead th {\n",
              "        text-align: right;\n",
              "    }\n",
              "</style>\n",
              "<table border=\"1\" class=\"dataframe\">\n",
              "  <thead>\n",
              "    <tr style=\"text-align: right;\">\n",
              "      <th></th>\n",
              "      <th>ID</th>\n",
              "      <th>Severity</th>\n",
              "      <th>Start_Time</th>\n",
              "      <th>End_Time</th>\n",
              "      <th>Start_Lat</th>\n",
              "      <th>Start_Lng</th>\n",
              "      <th>End_Lat</th>\n",
              "      <th>End_Lng</th>\n",
              "      <th>Distance(mi)</th>\n",
              "      <th>Description</th>\n",
              "      <th>...</th>\n",
              "      <th>Roundabout</th>\n",
              "      <th>Station</th>\n",
              "      <th>Stop</th>\n",
              "      <th>Traffic_Calming</th>\n",
              "      <th>Traffic_Signal</th>\n",
              "      <th>Turning_Loop</th>\n",
              "      <th>Sunrise_Sunset</th>\n",
              "      <th>Civil_Twilight</th>\n",
              "      <th>Nautical_Twilight</th>\n",
              "      <th>Astronomical_Twilight</th>\n",
              "    </tr>\n",
              "  </thead>\n",
              "  <tbody>\n",
              "    <tr>\n",
              "      <th>0</th>\n",
              "      <td>A-1</td>\n",
              "      <td>3</td>\n",
              "      <td>2016-02-08 00:37:08</td>\n",
              "      <td>2016-02-08 06:37:08</td>\n",
              "      <td>40.108910</td>\n",
              "      <td>-83.092860</td>\n",
              "      <td>40.112060</td>\n",
              "      <td>-83.031870</td>\n",
              "      <td>3.230</td>\n",
              "      <td>Between Sawmill Rd/Exit 20 and OH-315/Olentang...</td>\n",
              "      <td>...</td>\n",
              "      <td>False</td>\n",
              "      <td>False</td>\n",
              "      <td>False</td>\n",
              "      <td>False</td>\n",
              "      <td>False</td>\n",
              "      <td>False</td>\n",
              "      <td>Night</td>\n",
              "      <td>Night</td>\n",
              "      <td>Night</td>\n",
              "      <td>Night</td>\n",
              "    </tr>\n",
              "    <tr>\n",
              "      <th>1</th>\n",
              "      <td>A-2</td>\n",
              "      <td>2</td>\n",
              "      <td>2016-02-08 05:56:20</td>\n",
              "      <td>2016-02-08 11:56:20</td>\n",
              "      <td>39.865420</td>\n",
              "      <td>-84.062800</td>\n",
              "      <td>39.865010</td>\n",
              "      <td>-84.048730</td>\n",
              "      <td>0.747</td>\n",
              "      <td>At OH-4/OH-235/Exit 41 - Accident.</td>\n",
              "      <td>...</td>\n",
              "      <td>False</td>\n",
              "      <td>False</td>\n",
              "      <td>False</td>\n",
              "      <td>False</td>\n",
              "      <td>False</td>\n",
              "      <td>False</td>\n",
              "      <td>Night</td>\n",
              "      <td>Night</td>\n",
              "      <td>Night</td>\n",
              "      <td>Night</td>\n",
              "    </tr>\n",
              "    <tr>\n",
              "      <th>2</th>\n",
              "      <td>A-3</td>\n",
              "      <td>2</td>\n",
              "      <td>2016-02-08 06:15:39</td>\n",
              "      <td>2016-02-08 12:15:39</td>\n",
              "      <td>39.102660</td>\n",
              "      <td>-84.524680</td>\n",
              "      <td>39.102090</td>\n",
              "      <td>-84.523960</td>\n",
              "      <td>0.055</td>\n",
              "      <td>At I-71/US-50/Exit 1 - Accident.</td>\n",
              "      <td>...</td>\n",
              "      <td>False</td>\n",
              "      <td>False</td>\n",
              "      <td>False</td>\n",
              "      <td>False</td>\n",
              "      <td>False</td>\n",
              "      <td>False</td>\n",
              "      <td>Night</td>\n",
              "      <td>Night</td>\n",
              "      <td>Night</td>\n",
              "      <td>Day</td>\n",
              "    </tr>\n",
              "    <tr>\n",
              "      <th>3</th>\n",
              "      <td>A-4</td>\n",
              "      <td>2</td>\n",
              "      <td>2016-02-08 06:51:45</td>\n",
              "      <td>2016-02-08 12:51:45</td>\n",
              "      <td>41.062130</td>\n",
              "      <td>-81.537840</td>\n",
              "      <td>41.062170</td>\n",
              "      <td>-81.535470</td>\n",
              "      <td>0.123</td>\n",
              "      <td>At Dart Ave/Exit 21 - Accident.</td>\n",
              "      <td>...</td>\n",
              "      <td>False</td>\n",
              "      <td>False</td>\n",
              "      <td>False</td>\n",
              "      <td>False</td>\n",
              "      <td>False</td>\n",
              "      <td>False</td>\n",
              "      <td>Night</td>\n",
              "      <td>Night</td>\n",
              "      <td>Day</td>\n",
              "      <td>Day</td>\n",
              "    </tr>\n",
              "    <tr>\n",
              "      <th>4</th>\n",
              "      <td>A-5</td>\n",
              "      <td>3</td>\n",
              "      <td>2016-02-08 07:53:43</td>\n",
              "      <td>2016-02-08 13:53:43</td>\n",
              "      <td>39.172393</td>\n",
              "      <td>-84.492792</td>\n",
              "      <td>39.170476</td>\n",
              "      <td>-84.501798</td>\n",
              "      <td>0.500</td>\n",
              "      <td>At Mitchell Ave/Exit 6 - Accident.</td>\n",
              "      <td>...</td>\n",
              "      <td>False</td>\n",
              "      <td>False</td>\n",
              "      <td>False</td>\n",
              "      <td>False</td>\n",
              "      <td>False</td>\n",
              "      <td>False</td>\n",
              "      <td>Day</td>\n",
              "      <td>Day</td>\n",
              "      <td>Day</td>\n",
              "      <td>Day</td>\n",
              "    </tr>\n",
              "    <tr>\n",
              "      <th>...</th>\n",
              "      <td>...</td>\n",
              "      <td>...</td>\n",
              "      <td>...</td>\n",
              "      <td>...</td>\n",
              "      <td>...</td>\n",
              "      <td>...</td>\n",
              "      <td>...</td>\n",
              "      <td>...</td>\n",
              "      <td>...</td>\n",
              "      <td>...</td>\n",
              "      <td>...</td>\n",
              "      <td>...</td>\n",
              "      <td>...</td>\n",
              "      <td>...</td>\n",
              "      <td>...</td>\n",
              "      <td>...</td>\n",
              "      <td>...</td>\n",
              "      <td>...</td>\n",
              "      <td>...</td>\n",
              "      <td>...</td>\n",
              "      <td>...</td>\n",
              "    </tr>\n",
              "    <tr>\n",
              "      <th>2845337</th>\n",
              "      <td>A-2845338</td>\n",
              "      <td>2</td>\n",
              "      <td>2019-08-23 18:03:25</td>\n",
              "      <td>2019-08-23 18:32:01</td>\n",
              "      <td>34.002480</td>\n",
              "      <td>-117.379360</td>\n",
              "      <td>33.998880</td>\n",
              "      <td>-117.370940</td>\n",
              "      <td>0.543</td>\n",
              "      <td>At Market St - Accident.</td>\n",
              "      <td>...</td>\n",
              "      <td>False</td>\n",
              "      <td>False</td>\n",
              "      <td>False</td>\n",
              "      <td>False</td>\n",
              "      <td>False</td>\n",
              "      <td>False</td>\n",
              "      <td>Day</td>\n",
              "      <td>Day</td>\n",
              "      <td>Day</td>\n",
              "      <td>Day</td>\n",
              "    </tr>\n",
              "    <tr>\n",
              "      <th>2845338</th>\n",
              "      <td>A-2845339</td>\n",
              "      <td>2</td>\n",
              "      <td>2019-08-23 19:11:30</td>\n",
              "      <td>2019-08-23 19:38:23</td>\n",
              "      <td>32.766960</td>\n",
              "      <td>-117.148060</td>\n",
              "      <td>32.765550</td>\n",
              "      <td>-117.153630</td>\n",
              "      <td>0.338</td>\n",
              "      <td>At Camino Del Rio/Mission Center Rd - Accident.</td>\n",
              "      <td>...</td>\n",
              "      <td>False</td>\n",
              "      <td>False</td>\n",
              "      <td>False</td>\n",
              "      <td>False</td>\n",
              "      <td>False</td>\n",
              "      <td>False</td>\n",
              "      <td>Day</td>\n",
              "      <td>Day</td>\n",
              "      <td>Day</td>\n",
              "      <td>Day</td>\n",
              "    </tr>\n",
              "    <tr>\n",
              "      <th>2845339</th>\n",
              "      <td>A-2845340</td>\n",
              "      <td>2</td>\n",
              "      <td>2019-08-23 19:00:21</td>\n",
              "      <td>2019-08-23 19:28:49</td>\n",
              "      <td>33.775450</td>\n",
              "      <td>-117.847790</td>\n",
              "      <td>33.777400</td>\n",
              "      <td>-117.857270</td>\n",
              "      <td>0.561</td>\n",
              "      <td>At Glassell St/Grand Ave - Accident. in the ri...</td>\n",
              "      <td>...</td>\n",
              "      <td>False</td>\n",
              "      <td>False</td>\n",
              "      <td>False</td>\n",
              "      <td>False</td>\n",
              "      <td>False</td>\n",
              "      <td>False</td>\n",
              "      <td>Day</td>\n",
              "      <td>Day</td>\n",
              "      <td>Day</td>\n",
              "      <td>Day</td>\n",
              "    </tr>\n",
              "    <tr>\n",
              "      <th>2845340</th>\n",
              "      <td>A-2845341</td>\n",
              "      <td>2</td>\n",
              "      <td>2019-08-23 19:00:21</td>\n",
              "      <td>2019-08-23 19:29:42</td>\n",
              "      <td>33.992460</td>\n",
              "      <td>-118.403020</td>\n",
              "      <td>33.983110</td>\n",
              "      <td>-118.395650</td>\n",
              "      <td>0.772</td>\n",
              "      <td>At CA-90/Marina Fwy/Jefferson Blvd - Accident.</td>\n",
              "      <td>...</td>\n",
              "      <td>False</td>\n",
              "      <td>False</td>\n",
              "      <td>False</td>\n",
              "      <td>False</td>\n",
              "      <td>False</td>\n",
              "      <td>False</td>\n",
              "      <td>Day</td>\n",
              "      <td>Day</td>\n",
              "      <td>Day</td>\n",
              "      <td>Day</td>\n",
              "    </tr>\n",
              "    <tr>\n",
              "      <th>2845341</th>\n",
              "      <td>A-2845342</td>\n",
              "      <td>2</td>\n",
              "      <td>2019-08-23 18:52:06</td>\n",
              "      <td>2019-08-23 19:21:31</td>\n",
              "      <td>34.133930</td>\n",
              "      <td>-117.230920</td>\n",
              "      <td>34.137360</td>\n",
              "      <td>-117.239340</td>\n",
              "      <td>0.537</td>\n",
              "      <td>At Highland Ave/Arden Ave - Accident.</td>\n",
              "      <td>...</td>\n",
              "      <td>False</td>\n",
              "      <td>False</td>\n",
              "      <td>False</td>\n",
              "      <td>False</td>\n",
              "      <td>False</td>\n",
              "      <td>False</td>\n",
              "      <td>Day</td>\n",
              "      <td>Day</td>\n",
              "      <td>Day</td>\n",
              "      <td>Day</td>\n",
              "    </tr>\n",
              "  </tbody>\n",
              "</table>\n",
              "<p>2845342 rows × 47 columns</p>\n",
              "</div>\n",
              "      <button class=\"colab-df-convert\" onclick=\"convertToInteractive('df-3ebd45df-3d01-4070-8edf-d341f1a768ae')\"\n",
              "              title=\"Convert this dataframe to an interactive table.\"\n",
              "              style=\"display:none;\">\n",
              "        \n",
              "  <svg xmlns=\"http://www.w3.org/2000/svg\" height=\"24px\"viewBox=\"0 0 24 24\"\n",
              "       width=\"24px\">\n",
              "    <path d=\"M0 0h24v24H0V0z\" fill=\"none\"/>\n",
              "    <path d=\"M18.56 5.44l.94 2.06.94-2.06 2.06-.94-2.06-.94-.94-2.06-.94 2.06-2.06.94zm-11 1L8.5 8.5l.94-2.06 2.06-.94-2.06-.94L8.5 2.5l-.94 2.06-2.06.94zm10 10l.94 2.06.94-2.06 2.06-.94-2.06-.94-.94-2.06-.94 2.06-2.06.94z\"/><path d=\"M17.41 7.96l-1.37-1.37c-.4-.4-.92-.59-1.43-.59-.52 0-1.04.2-1.43.59L10.3 9.45l-7.72 7.72c-.78.78-.78 2.05 0 2.83L4 21.41c.39.39.9.59 1.41.59.51 0 1.02-.2 1.41-.59l7.78-7.78 2.81-2.81c.8-.78.8-2.07 0-2.86zM5.41 20L4 18.59l7.72-7.72 1.47 1.35L5.41 20z\"/>\n",
              "  </svg>\n",
              "      </button>\n",
              "      \n",
              "  <style>\n",
              "    .colab-df-container {\n",
              "      display:flex;\n",
              "      flex-wrap:wrap;\n",
              "      gap: 12px;\n",
              "    }\n",
              "\n",
              "    .colab-df-convert {\n",
              "      background-color: #E8F0FE;\n",
              "      border: none;\n",
              "      border-radius: 50%;\n",
              "      cursor: pointer;\n",
              "      display: none;\n",
              "      fill: #1967D2;\n",
              "      height: 32px;\n",
              "      padding: 0 0 0 0;\n",
              "      width: 32px;\n",
              "    }\n",
              "\n",
              "    .colab-df-convert:hover {\n",
              "      background-color: #E2EBFA;\n",
              "      box-shadow: 0px 1px 2px rgba(60, 64, 67, 0.3), 0px 1px 3px 1px rgba(60, 64, 67, 0.15);\n",
              "      fill: #174EA6;\n",
              "    }\n",
              "\n",
              "    [theme=dark] .colab-df-convert {\n",
              "      background-color: #3B4455;\n",
              "      fill: #D2E3FC;\n",
              "    }\n",
              "\n",
              "    [theme=dark] .colab-df-convert:hover {\n",
              "      background-color: #434B5C;\n",
              "      box-shadow: 0px 1px 3px 1px rgba(0, 0, 0, 0.15);\n",
              "      filter: drop-shadow(0px 1px 2px rgba(0, 0, 0, 0.3));\n",
              "      fill: #FFFFFF;\n",
              "    }\n",
              "  </style>\n",
              "\n",
              "      <script>\n",
              "        const buttonEl =\n",
              "          document.querySelector('#df-3ebd45df-3d01-4070-8edf-d341f1a768ae button.colab-df-convert');\n",
              "        buttonEl.style.display =\n",
              "          google.colab.kernel.accessAllowed ? 'block' : 'none';\n",
              "\n",
              "        async function convertToInteractive(key) {\n",
              "          const element = document.querySelector('#df-3ebd45df-3d01-4070-8edf-d341f1a768ae');\n",
              "          const dataTable =\n",
              "            await google.colab.kernel.invokeFunction('convertToInteractive',\n",
              "                                                     [key], {});\n",
              "          if (!dataTable) return;\n",
              "\n",
              "          const docLinkHtml = 'Like what you see? Visit the ' +\n",
              "            '<a target=\"_blank\" href=https://colab.research.google.com/notebooks/data_table.ipynb>data table notebook</a>'\n",
              "            + ' to learn more about interactive tables.';\n",
              "          element.innerHTML = '';\n",
              "          dataTable['output_type'] = 'display_data';\n",
              "          await google.colab.output.renderOutput(dataTable, element);\n",
              "          const docLink = document.createElement('div');\n",
              "          docLink.innerHTML = docLinkHtml;\n",
              "          element.appendChild(docLink);\n",
              "        }\n",
              "      </script>\n",
              "    </div>\n",
              "  </div>\n",
              "  "
            ]
          },
          "metadata": {},
          "execution_count": 8
        }
      ]
    },
    {
      "cell_type": "code",
      "source": [
        "df.shape\n",
        "#almost 3 millon rows "
      ],
      "metadata": {
        "id": "l2U6NPLg2i_X",
        "colab": {
          "base_uri": "https://localhost:8080/"
        },
        "outputId": "090a6f96-ca21-4583-d38f-7666e064a6e5"
      },
      "execution_count": 9,
      "outputs": [
        {
          "output_type": "execute_result",
          "data": {
            "text/plain": [
              "(2845342, 47)"
            ]
          },
          "metadata": {},
          "execution_count": 9
        }
      ]
    },
    {
      "cell_type": "code",
      "source": [
        "df.columns"
      ],
      "metadata": {
        "id": "1-IZSVlW2nq7",
        "colab": {
          "base_uri": "https://localhost:8080/"
        },
        "outputId": "aeb86bb2-416f-4d01-8c3b-f64188a9b2f9"
      },
      "execution_count": 10,
      "outputs": [
        {
          "output_type": "execute_result",
          "data": {
            "text/plain": [
              "Index(['ID', 'Severity', 'Start_Time', 'End_Time', 'Start_Lat', 'Start_Lng',\n",
              "       'End_Lat', 'End_Lng', 'Distance(mi)', 'Description', 'Number', 'Street',\n",
              "       'Side', 'City', 'County', 'State', 'Zipcode', 'Country', 'Timezone',\n",
              "       'Airport_Code', 'Weather_Timestamp', 'Temperature(F)', 'Wind_Chill(F)',\n",
              "       'Humidity(%)', 'Pressure(in)', 'Visibility(mi)', 'Wind_Direction',\n",
              "       'Wind_Speed(mph)', 'Precipitation(in)', 'Weather_Condition', 'Amenity',\n",
              "       'Bump', 'Crossing', 'Give_Way', 'Junction', 'No_Exit', 'Railway',\n",
              "       'Roundabout', 'Station', 'Stop', 'Traffic_Calming', 'Traffic_Signal',\n",
              "       'Turning_Loop', 'Sunrise_Sunset', 'Civil_Twilight', 'Nautical_Twilight',\n",
              "       'Astronomical_Twilight'],\n",
              "      dtype='object')"
            ]
          },
          "metadata": {},
          "execution_count": 10
        }
      ]
    },
    {
      "cell_type": "code",
      "source": [
        "#datatypes of each column\n",
        "df.info()"
      ],
      "metadata": {
        "id": "2Noqnp-H2xjB",
        "colab": {
          "base_uri": "https://localhost:8080/"
        },
        "outputId": "28eceaca-d884-4111-9f80-e1747317bfe8"
      },
      "execution_count": 11,
      "outputs": [
        {
          "output_type": "stream",
          "name": "stdout",
          "text": [
            "<class 'pandas.core.frame.DataFrame'>\n",
            "RangeIndex: 2845342 entries, 0 to 2845341\n",
            "Data columns (total 47 columns):\n",
            " #   Column                 Dtype  \n",
            "---  ------                 -----  \n",
            " 0   ID                     object \n",
            " 1   Severity               int64  \n",
            " 2   Start_Time             object \n",
            " 3   End_Time               object \n",
            " 4   Start_Lat              float64\n",
            " 5   Start_Lng              float64\n",
            " 6   End_Lat                float64\n",
            " 7   End_Lng                float64\n",
            " 8   Distance(mi)           float64\n",
            " 9   Description            object \n",
            " 10  Number                 float64\n",
            " 11  Street                 object \n",
            " 12  Side                   object \n",
            " 13  City                   object \n",
            " 14  County                 object \n",
            " 15  State                  object \n",
            " 16  Zipcode                object \n",
            " 17  Country                object \n",
            " 18  Timezone               object \n",
            " 19  Airport_Code           object \n",
            " 20  Weather_Timestamp      object \n",
            " 21  Temperature(F)         float64\n",
            " 22  Wind_Chill(F)          float64\n",
            " 23  Humidity(%)            float64\n",
            " 24  Pressure(in)           float64\n",
            " 25  Visibility(mi)         float64\n",
            " 26  Wind_Direction         object \n",
            " 27  Wind_Speed(mph)        float64\n",
            " 28  Precipitation(in)      float64\n",
            " 29  Weather_Condition      object \n",
            " 30  Amenity                bool   \n",
            " 31  Bump                   bool   \n",
            " 32  Crossing               bool   \n",
            " 33  Give_Way               bool   \n",
            " 34  Junction               bool   \n",
            " 35  No_Exit                bool   \n",
            " 36  Railway                bool   \n",
            " 37  Roundabout             bool   \n",
            " 38  Station                bool   \n",
            " 39  Stop                   bool   \n",
            " 40  Traffic_Calming        bool   \n",
            " 41  Traffic_Signal         bool   \n",
            " 42  Turning_Loop           bool   \n",
            " 43  Sunrise_Sunset         object \n",
            " 44  Civil_Twilight         object \n",
            " 45  Nautical_Twilight      object \n",
            " 46  Astronomical_Twilight  object \n",
            "dtypes: bool(13), float64(13), int64(1), object(20)\n",
            "memory usage: 773.4+ MB\n"
          ]
        }
      ]
    },
    {
      "cell_type": "code",
      "source": [
        "#perform some stats on numerical dataset\n",
        "df.describe()"
      ],
      "metadata": {
        "id": "48qti-AV2-ot",
        "colab": {
          "base_uri": "https://localhost:8080/",
          "height": 364
        },
        "outputId": "0d5e8bd7-c20d-40c2-8e8a-036d29634611"
      },
      "execution_count": 12,
      "outputs": [
        {
          "output_type": "execute_result",
          "data": {
            "text/plain": [
              "           Severity     Start_Lat     Start_Lng       End_Lat       End_Lng  \\\n",
              "count  2.845342e+06  2.845342e+06  2.845342e+06  2.845342e+06  2.845342e+06   \n",
              "mean   2.137572e+00  3.624520e+01 -9.711463e+01  3.624532e+01 -9.711439e+01   \n",
              "std    4.787216e-01  5.363797e+00  1.831782e+01  5.363873e+00  1.831763e+01   \n",
              "min    1.000000e+00  2.456603e+01 -1.245481e+02  2.456601e+01 -1.245457e+02   \n",
              "25%    2.000000e+00  3.344517e+01 -1.180331e+02  3.344628e+01 -1.180333e+02   \n",
              "50%    2.000000e+00  3.609861e+01 -9.241808e+01  3.609799e+01 -9.241772e+01   \n",
              "75%    2.000000e+00  4.016024e+01 -8.037243e+01  4.016105e+01 -8.037338e+01   \n",
              "max    4.000000e+00  4.900058e+01 -6.711317e+01  4.907500e+01 -6.710924e+01   \n",
              "\n",
              "       Distance(mi)        Number  Temperature(F)  Wind_Chill(F)  \\\n",
              "count  2.845342e+06  1.101431e+06    2.776068e+06   2.375699e+06   \n",
              "mean   7.026779e-01  8.089408e+03    6.179356e+01   5.965823e+01   \n",
              "std    1.560361e+00  1.836009e+04    1.862263e+01   2.116097e+01   \n",
              "min    0.000000e+00  0.000000e+00   -8.900000e+01  -8.900000e+01   \n",
              "25%    5.200000e-02  1.270000e+03    5.000000e+01   4.600000e+01   \n",
              "50%    2.440000e-01  4.007000e+03    6.400000e+01   6.300000e+01   \n",
              "75%    7.640000e-01  9.567000e+03    7.600000e+01   7.600000e+01   \n",
              "max    1.551860e+02  9.999997e+06    1.960000e+02   1.960000e+02   \n",
              "\n",
              "        Humidity(%)  Pressure(in)  Visibility(mi)  Wind_Speed(mph)  \\\n",
              "count  2.772250e+06  2.786142e+06    2.774796e+06     2.687398e+06   \n",
              "mean   6.436545e+01  2.947234e+01    9.099391e+00     7.395044e+00   \n",
              "std    2.287457e+01  1.045286e+00    2.717546e+00     5.527454e+00   \n",
              "min    1.000000e+00  0.000000e+00    0.000000e+00     0.000000e+00   \n",
              "25%    4.800000e+01  2.931000e+01    1.000000e+01     3.500000e+00   \n",
              "50%    6.700000e+01  2.982000e+01    1.000000e+01     7.000000e+00   \n",
              "75%    8.300000e+01  3.001000e+01    1.000000e+01     1.000000e+01   \n",
              "max    1.000000e+02  5.890000e+01    1.400000e+02     1.087000e+03   \n",
              "\n",
              "       Precipitation(in)  \n",
              "count       2.295884e+06  \n",
              "mean        7.016940e-03  \n",
              "std         9.348831e-02  \n",
              "min         0.000000e+00  \n",
              "25%         0.000000e+00  \n",
              "50%         0.000000e+00  \n",
              "75%         0.000000e+00  \n",
              "max         2.400000e+01  "
            ],
            "text/html": [
              "\n",
              "  <div id=\"df-950d0925-0e13-43fa-9e08-7122c7da012a\">\n",
              "    <div class=\"colab-df-container\">\n",
              "      <div>\n",
              "<style scoped>\n",
              "    .dataframe tbody tr th:only-of-type {\n",
              "        vertical-align: middle;\n",
              "    }\n",
              "\n",
              "    .dataframe tbody tr th {\n",
              "        vertical-align: top;\n",
              "    }\n",
              "\n",
              "    .dataframe thead th {\n",
              "        text-align: right;\n",
              "    }\n",
              "</style>\n",
              "<table border=\"1\" class=\"dataframe\">\n",
              "  <thead>\n",
              "    <tr style=\"text-align: right;\">\n",
              "      <th></th>\n",
              "      <th>Severity</th>\n",
              "      <th>Start_Lat</th>\n",
              "      <th>Start_Lng</th>\n",
              "      <th>End_Lat</th>\n",
              "      <th>End_Lng</th>\n",
              "      <th>Distance(mi)</th>\n",
              "      <th>Number</th>\n",
              "      <th>Temperature(F)</th>\n",
              "      <th>Wind_Chill(F)</th>\n",
              "      <th>Humidity(%)</th>\n",
              "      <th>Pressure(in)</th>\n",
              "      <th>Visibility(mi)</th>\n",
              "      <th>Wind_Speed(mph)</th>\n",
              "      <th>Precipitation(in)</th>\n",
              "    </tr>\n",
              "  </thead>\n",
              "  <tbody>\n",
              "    <tr>\n",
              "      <th>count</th>\n",
              "      <td>2.845342e+06</td>\n",
              "      <td>2.845342e+06</td>\n",
              "      <td>2.845342e+06</td>\n",
              "      <td>2.845342e+06</td>\n",
              "      <td>2.845342e+06</td>\n",
              "      <td>2.845342e+06</td>\n",
              "      <td>1.101431e+06</td>\n",
              "      <td>2.776068e+06</td>\n",
              "      <td>2.375699e+06</td>\n",
              "      <td>2.772250e+06</td>\n",
              "      <td>2.786142e+06</td>\n",
              "      <td>2.774796e+06</td>\n",
              "      <td>2.687398e+06</td>\n",
              "      <td>2.295884e+06</td>\n",
              "    </tr>\n",
              "    <tr>\n",
              "      <th>mean</th>\n",
              "      <td>2.137572e+00</td>\n",
              "      <td>3.624520e+01</td>\n",
              "      <td>-9.711463e+01</td>\n",
              "      <td>3.624532e+01</td>\n",
              "      <td>-9.711439e+01</td>\n",
              "      <td>7.026779e-01</td>\n",
              "      <td>8.089408e+03</td>\n",
              "      <td>6.179356e+01</td>\n",
              "      <td>5.965823e+01</td>\n",
              "      <td>6.436545e+01</td>\n",
              "      <td>2.947234e+01</td>\n",
              "      <td>9.099391e+00</td>\n",
              "      <td>7.395044e+00</td>\n",
              "      <td>7.016940e-03</td>\n",
              "    </tr>\n",
              "    <tr>\n",
              "      <th>std</th>\n",
              "      <td>4.787216e-01</td>\n",
              "      <td>5.363797e+00</td>\n",
              "      <td>1.831782e+01</td>\n",
              "      <td>5.363873e+00</td>\n",
              "      <td>1.831763e+01</td>\n",
              "      <td>1.560361e+00</td>\n",
              "      <td>1.836009e+04</td>\n",
              "      <td>1.862263e+01</td>\n",
              "      <td>2.116097e+01</td>\n",
              "      <td>2.287457e+01</td>\n",
              "      <td>1.045286e+00</td>\n",
              "      <td>2.717546e+00</td>\n",
              "      <td>5.527454e+00</td>\n",
              "      <td>9.348831e-02</td>\n",
              "    </tr>\n",
              "    <tr>\n",
              "      <th>min</th>\n",
              "      <td>1.000000e+00</td>\n",
              "      <td>2.456603e+01</td>\n",
              "      <td>-1.245481e+02</td>\n",
              "      <td>2.456601e+01</td>\n",
              "      <td>-1.245457e+02</td>\n",
              "      <td>0.000000e+00</td>\n",
              "      <td>0.000000e+00</td>\n",
              "      <td>-8.900000e+01</td>\n",
              "      <td>-8.900000e+01</td>\n",
              "      <td>1.000000e+00</td>\n",
              "      <td>0.000000e+00</td>\n",
              "      <td>0.000000e+00</td>\n",
              "      <td>0.000000e+00</td>\n",
              "      <td>0.000000e+00</td>\n",
              "    </tr>\n",
              "    <tr>\n",
              "      <th>25%</th>\n",
              "      <td>2.000000e+00</td>\n",
              "      <td>3.344517e+01</td>\n",
              "      <td>-1.180331e+02</td>\n",
              "      <td>3.344628e+01</td>\n",
              "      <td>-1.180333e+02</td>\n",
              "      <td>5.200000e-02</td>\n",
              "      <td>1.270000e+03</td>\n",
              "      <td>5.000000e+01</td>\n",
              "      <td>4.600000e+01</td>\n",
              "      <td>4.800000e+01</td>\n",
              "      <td>2.931000e+01</td>\n",
              "      <td>1.000000e+01</td>\n",
              "      <td>3.500000e+00</td>\n",
              "      <td>0.000000e+00</td>\n",
              "    </tr>\n",
              "    <tr>\n",
              "      <th>50%</th>\n",
              "      <td>2.000000e+00</td>\n",
              "      <td>3.609861e+01</td>\n",
              "      <td>-9.241808e+01</td>\n",
              "      <td>3.609799e+01</td>\n",
              "      <td>-9.241772e+01</td>\n",
              "      <td>2.440000e-01</td>\n",
              "      <td>4.007000e+03</td>\n",
              "      <td>6.400000e+01</td>\n",
              "      <td>6.300000e+01</td>\n",
              "      <td>6.700000e+01</td>\n",
              "      <td>2.982000e+01</td>\n",
              "      <td>1.000000e+01</td>\n",
              "      <td>7.000000e+00</td>\n",
              "      <td>0.000000e+00</td>\n",
              "    </tr>\n",
              "    <tr>\n",
              "      <th>75%</th>\n",
              "      <td>2.000000e+00</td>\n",
              "      <td>4.016024e+01</td>\n",
              "      <td>-8.037243e+01</td>\n",
              "      <td>4.016105e+01</td>\n",
              "      <td>-8.037338e+01</td>\n",
              "      <td>7.640000e-01</td>\n",
              "      <td>9.567000e+03</td>\n",
              "      <td>7.600000e+01</td>\n",
              "      <td>7.600000e+01</td>\n",
              "      <td>8.300000e+01</td>\n",
              "      <td>3.001000e+01</td>\n",
              "      <td>1.000000e+01</td>\n",
              "      <td>1.000000e+01</td>\n",
              "      <td>0.000000e+00</td>\n",
              "    </tr>\n",
              "    <tr>\n",
              "      <th>max</th>\n",
              "      <td>4.000000e+00</td>\n",
              "      <td>4.900058e+01</td>\n",
              "      <td>-6.711317e+01</td>\n",
              "      <td>4.907500e+01</td>\n",
              "      <td>-6.710924e+01</td>\n",
              "      <td>1.551860e+02</td>\n",
              "      <td>9.999997e+06</td>\n",
              "      <td>1.960000e+02</td>\n",
              "      <td>1.960000e+02</td>\n",
              "      <td>1.000000e+02</td>\n",
              "      <td>5.890000e+01</td>\n",
              "      <td>1.400000e+02</td>\n",
              "      <td>1.087000e+03</td>\n",
              "      <td>2.400000e+01</td>\n",
              "    </tr>\n",
              "  </tbody>\n",
              "</table>\n",
              "</div>\n",
              "      <button class=\"colab-df-convert\" onclick=\"convertToInteractive('df-950d0925-0e13-43fa-9e08-7122c7da012a')\"\n",
              "              title=\"Convert this dataframe to an interactive table.\"\n",
              "              style=\"display:none;\">\n",
              "        \n",
              "  <svg xmlns=\"http://www.w3.org/2000/svg\" height=\"24px\"viewBox=\"0 0 24 24\"\n",
              "       width=\"24px\">\n",
              "    <path d=\"M0 0h24v24H0V0z\" fill=\"none\"/>\n",
              "    <path d=\"M18.56 5.44l.94 2.06.94-2.06 2.06-.94-2.06-.94-.94-2.06-.94 2.06-2.06.94zm-11 1L8.5 8.5l.94-2.06 2.06-.94-2.06-.94L8.5 2.5l-.94 2.06-2.06.94zm10 10l.94 2.06.94-2.06 2.06-.94-2.06-.94-.94-2.06-.94 2.06-2.06.94z\"/><path d=\"M17.41 7.96l-1.37-1.37c-.4-.4-.92-.59-1.43-.59-.52 0-1.04.2-1.43.59L10.3 9.45l-7.72 7.72c-.78.78-.78 2.05 0 2.83L4 21.41c.39.39.9.59 1.41.59.51 0 1.02-.2 1.41-.59l7.78-7.78 2.81-2.81c.8-.78.8-2.07 0-2.86zM5.41 20L4 18.59l7.72-7.72 1.47 1.35L5.41 20z\"/>\n",
              "  </svg>\n",
              "      </button>\n",
              "      \n",
              "  <style>\n",
              "    .colab-df-container {\n",
              "      display:flex;\n",
              "      flex-wrap:wrap;\n",
              "      gap: 12px;\n",
              "    }\n",
              "\n",
              "    .colab-df-convert {\n",
              "      background-color: #E8F0FE;\n",
              "      border: none;\n",
              "      border-radius: 50%;\n",
              "      cursor: pointer;\n",
              "      display: none;\n",
              "      fill: #1967D2;\n",
              "      height: 32px;\n",
              "      padding: 0 0 0 0;\n",
              "      width: 32px;\n",
              "    }\n",
              "\n",
              "    .colab-df-convert:hover {\n",
              "      background-color: #E2EBFA;\n",
              "      box-shadow: 0px 1px 2px rgba(60, 64, 67, 0.3), 0px 1px 3px 1px rgba(60, 64, 67, 0.15);\n",
              "      fill: #174EA6;\n",
              "    }\n",
              "\n",
              "    [theme=dark] .colab-df-convert {\n",
              "      background-color: #3B4455;\n",
              "      fill: #D2E3FC;\n",
              "    }\n",
              "\n",
              "    [theme=dark] .colab-df-convert:hover {\n",
              "      background-color: #434B5C;\n",
              "      box-shadow: 0px 1px 3px 1px rgba(0, 0, 0, 0.15);\n",
              "      filter: drop-shadow(0px 1px 2px rgba(0, 0, 0, 0.3));\n",
              "      fill: #FFFFFF;\n",
              "    }\n",
              "  </style>\n",
              "\n",
              "      <script>\n",
              "        const buttonEl =\n",
              "          document.querySelector('#df-950d0925-0e13-43fa-9e08-7122c7da012a button.colab-df-convert');\n",
              "        buttonEl.style.display =\n",
              "          google.colab.kernel.accessAllowed ? 'block' : 'none';\n",
              "\n",
              "        async function convertToInteractive(key) {\n",
              "          const element = document.querySelector('#df-950d0925-0e13-43fa-9e08-7122c7da012a');\n",
              "          const dataTable =\n",
              "            await google.colab.kernel.invokeFunction('convertToInteractive',\n",
              "                                                     [key], {});\n",
              "          if (!dataTable) return;\n",
              "\n",
              "          const docLinkHtml = 'Like what you see? Visit the ' +\n",
              "            '<a target=\"_blank\" href=https://colab.research.google.com/notebooks/data_table.ipynb>data table notebook</a>'\n",
              "            + ' to learn more about interactive tables.';\n",
              "          element.innerHTML = '';\n",
              "          dataTable['output_type'] = 'display_data';\n",
              "          await google.colab.output.renderOutput(dataTable, element);\n",
              "          const docLink = document.createElement('div');\n",
              "          docLink.innerHTML = docLinkHtml;\n",
              "          element.appendChild(docLink);\n",
              "        }\n",
              "      </script>\n",
              "    </div>\n",
              "  </div>\n",
              "  "
            ]
          },
          "metadata": {},
          "execution_count": 12
        }
      ]
    },
    {
      "cell_type": "code",
      "source": [
        "#counting number of missing values in each column and sorting them in descending order\n",
        "missing_value = df.isna().sum().sort_values(ascending=False)\n",
        "missing_value"
      ],
      "metadata": {
        "id": "WDTGs5yX3LkY",
        "colab": {
          "base_uri": "https://localhost:8080/"
        },
        "outputId": "c8f0ddae-23df-4308-afd2-553647c7d1d4"
      },
      "execution_count": 13,
      "outputs": [
        {
          "output_type": "execute_result",
          "data": {
            "text/plain": [
              "Number                   1743911\n",
              "Precipitation(in)         549458\n",
              "Wind_Chill(F)             469643\n",
              "Wind_Speed(mph)           157944\n",
              "Wind_Direction             73775\n",
              "Humidity(%)                73092\n",
              "Weather_Condition          70636\n",
              "Visibility(mi)             70546\n",
              "Temperature(F)             69274\n",
              "Pressure(in)               59200\n",
              "Weather_Timestamp          50736\n",
              "Airport_Code                9549\n",
              "Timezone                    3659\n",
              "Nautical_Twilight           2867\n",
              "Civil_Twilight              2867\n",
              "Sunrise_Sunset              2867\n",
              "Astronomical_Twilight       2867\n",
              "Zipcode                     1319\n",
              "City                         137\n",
              "Street                         2\n",
              "Country                        0\n",
              "Junction                       0\n",
              "Start_Time                     0\n",
              "End_Time                       0\n",
              "Start_Lat                      0\n",
              "Turning_Loop                   0\n",
              "Traffic_Signal                 0\n",
              "Traffic_Calming                0\n",
              "Stop                           0\n",
              "Station                        0\n",
              "Roundabout                     0\n",
              "Railway                        0\n",
              "No_Exit                        0\n",
              "Crossing                       0\n",
              "Give_Way                       0\n",
              "Bump                           0\n",
              "Amenity                        0\n",
              "Start_Lng                      0\n",
              "End_Lat                        0\n",
              "End_Lng                        0\n",
              "Distance(mi)                   0\n",
              "Description                    0\n",
              "Severity                       0\n",
              "Side                           0\n",
              "County                         0\n",
              "State                          0\n",
              "ID                             0\n",
              "dtype: int64"
            ]
          },
          "metadata": {},
          "execution_count": 13
        }
      ]
    },
    {
      "cell_type": "code",
      "source": [
        "#converting value to percent to get better idea of data\n",
        "percent_missing = (missing_value/ len(df))* 100\n",
        "percent_missing"
      ],
      "metadata": {
        "id": "qjloMI_o3ySQ",
        "colab": {
          "base_uri": "https://localhost:8080/"
        },
        "outputId": "30b139e7-56e3-401b-ff18-6f139b390e47"
      },
      "execution_count": 14,
      "outputs": [
        {
          "output_type": "execute_result",
          "data": {
            "text/plain": [
              "Number                   61.290031\n",
              "Precipitation(in)        19.310789\n",
              "Wind_Chill(F)            16.505678\n",
              "Wind_Speed(mph)           5.550967\n",
              "Wind_Direction            2.592834\n",
              "Humidity(%)               2.568830\n",
              "Weather_Condition         2.482514\n",
              "Visibility(mi)            2.479350\n",
              "Temperature(F)            2.434646\n",
              "Pressure(in)              2.080593\n",
              "Weather_Timestamp         1.783125\n",
              "Airport_Code              0.335601\n",
              "Timezone                  0.128596\n",
              "Nautical_Twilight         0.100761\n",
              "Civil_Twilight            0.100761\n",
              "Sunrise_Sunset            0.100761\n",
              "Astronomical_Twilight     0.100761\n",
              "Zipcode                   0.046356\n",
              "City                      0.004815\n",
              "Street                    0.000070\n",
              "Country                   0.000000\n",
              "Junction                  0.000000\n",
              "Start_Time                0.000000\n",
              "End_Time                  0.000000\n",
              "Start_Lat                 0.000000\n",
              "Turning_Loop              0.000000\n",
              "Traffic_Signal            0.000000\n",
              "Traffic_Calming           0.000000\n",
              "Stop                      0.000000\n",
              "Station                   0.000000\n",
              "Roundabout                0.000000\n",
              "Railway                   0.000000\n",
              "No_Exit                   0.000000\n",
              "Crossing                  0.000000\n",
              "Give_Way                  0.000000\n",
              "Bump                      0.000000\n",
              "Amenity                   0.000000\n",
              "Start_Lng                 0.000000\n",
              "End_Lat                   0.000000\n",
              "End_Lng                   0.000000\n",
              "Distance(mi)              0.000000\n",
              "Description               0.000000\n",
              "Severity                  0.000000\n",
              "Side                      0.000000\n",
              "County                    0.000000\n",
              "State                     0.000000\n",
              "ID                        0.000000\n",
              "dtype: float64"
            ]
          },
          "metadata": {},
          "execution_count": 14
        }
      ]
    },
    {
      "cell_type": "code",
      "source": [
        "percent_missing.plot(kind='barh')"
      ],
      "metadata": {
        "id": "KRQ-wD-e67Pn",
        "colab": {
          "base_uri": "https://localhost:8080/",
          "height": 284
        },
        "outputId": "54268217-f142-4013-8d45-67cf6de3bf2b"
      },
      "execution_count": 15,
      "outputs": [
        {
          "output_type": "execute_result",
          "data": {
            "text/plain": [
              "<matplotlib.axes._subplots.AxesSubplot at 0x7fc60b1d9a90>"
            ]
          },
          "metadata": {},
          "execution_count": 15
        },
        {
          "output_type": "display_data",
          "data": {
            "text/plain": [
              "<Figure size 432x288 with 1 Axes>"
            ],
            "image/png": "[encoded data removed]"
          },
          "metadata": {}
        }
      ]
    },
    {
      "cell_type": "code",
      "source": [
        "#the above bar chart doesnt give better understanding as there are lot of columns with missing values\n",
        "#so we plot only the columns without missing values\n",
        "percent_missing[percent_missing!=0].plot(kind='barh')"
      ],
      "metadata": {
        "id": "rRhs1a-L7OjL",
        "colab": {
          "base_uri": "https://localhost:8080/",
          "height": 282
        },
        "outputId": "22ad05b0-a05a-4781-b2d5-39d7ca693360"
      },
      "execution_count": 16,
      "outputs": [
        {
          "output_type": "execute_result",
          "data": {
            "text/plain": [
              "<matplotlib.axes._subplots.AxesSubplot at 0x7fc60b0a3c10>"
            ]
          },
          "metadata": {},
          "execution_count": 16
        },
        {
          "output_type": "display_data",
          "data": {
            "text/plain": [
              "<Figure size 432x288 with 1 Axes>"
            ],
            "image/png": "[encoded data removed]"
          },
          "metadata": {}
        }
      ]
    },
    {
      "cell_type": "markdown",
      "source": [
        "##Exploratory Data Analysis(EDA) and Visualization"
      ],
      "metadata": {
        "id": "jv2wnDNM8Cjx"
      }
    },
    {
      "cell_type": "code",
      "source": [
        "df.columns"
      ],
      "metadata": {
        "id": "fO9f2bSw7b5a",
        "colab": {
          "base_uri": "https://localhost:8080/"
        },
        "outputId": "0c05c696-a517-456b-a7e3-ed579a5cd31c"
      },
      "execution_count": 17,
      "outputs": [
        {
          "output_type": "execute_result",
          "data": {
            "text/plain": [
              "Index(['ID', 'Severity', 'Start_Time', 'End_Time', 'Start_Lat', 'Start_Lng',\n",
              "       'End_Lat', 'End_Lng', 'Distance(mi)', 'Description', 'Number', 'Street',\n",
              "       'Side', 'City', 'County', 'State', 'Zipcode', 'Country', 'Timezone',\n",
              "       'Airport_Code', 'Weather_Timestamp', 'Temperature(F)', 'Wind_Chill(F)',\n",
              "       'Humidity(%)', 'Pressure(in)', 'Visibility(mi)', 'Wind_Direction',\n",
              "       'Wind_Speed(mph)', 'Precipitation(in)', 'Weather_Condition', 'Amenity',\n",
              "       'Bump', 'Crossing', 'Give_Way', 'Junction', 'No_Exit', 'Railway',\n",
              "       'Roundabout', 'Station', 'Stop', 'Traffic_Calming', 'Traffic_Signal',\n",
              "       'Turning_Loop', 'Sunrise_Sunset', 'Civil_Twilight', 'Nautical_Twilight',\n",
              "       'Astronomical_Twilight'],\n",
              "      dtype='object')"
            ]
          },
          "metadata": {},
          "execution_count": 17
        }
      ]
    },
    {
      "cell_type": "markdown",
      "source": [
        "I picked 3 columns to continue my analysis\n",
        "1. City\n",
        "2. Start_Time\n",
        "3. Start_Lat, Start_Lng"
      ],
      "metadata": {
        "id": "m9WeucB68fH6"
      }
    },
    {
      "cell_type": "markdown",
      "source": [
        "###City"
      ],
      "metadata": {
        "id": "gaqe7w-38zU5"
      }
    },
    {
      "cell_type": "code",
      "source": [
        "df.City"
      ],
      "metadata": {
        "id": "lk21JFK48xRp",
        "colab": {
          "base_uri": "https://localhost:8080/"
        },
        "outputId": "f68da3cb-c639-427c-aefe-4fb8af2b3352"
      },
      "execution_count": 18,
      "outputs": [
        {
          "output_type": "execute_result",
          "data": {
            "text/plain": [
              "0               Dublin\n",
              "1               Dayton\n",
              "2           Cincinnati\n",
              "3                Akron\n",
              "4           Cincinnati\n",
              "              ...     \n",
              "2845337      Riverside\n",
              "2845338      San Diego\n",
              "2845339         Orange\n",
              "2845340    Culver City\n",
              "2845341       Highland\n",
              "Name: City, Length: 2845342, dtype: object"
            ]
          },
          "metadata": {},
          "execution_count": 18
        }
      ]
    },
    {
      "cell_type": "code",
      "source": [
        "cities = df.City"
      ],
      "metadata": {
        "id": "PjHXIZuZ85te"
      },
      "execution_count": 19,
      "outputs": []
    },
    {
      "cell_type": "code",
      "source": [
        "#unique number of cities\n",
        "cities.nunique()"
      ],
      "metadata": {
        "id": "G9NfL5Uz9FRd",
        "colab": {
          "base_uri": "https://localhost:8080/"
        },
        "outputId": "f654984a-1837-450d-fc47-9af3d848be78"
      },
      "execution_count": 20,
      "outputs": [
        {
          "output_type": "execute_result",
          "data": {
            "text/plain": [
              "11681"
            ]
          },
          "metadata": {},
          "execution_count": 20
        }
      ]
    },
    {
      "cell_type": "code",
      "source": [
        "cities_by_accident = cities.value_counts()\n",
        "cities_by_accident"
      ],
      "metadata": {
        "id": "5fZTMOq29IJp",
        "colab": {
          "base_uri": "https://localhost:8080/"
        },
        "outputId": "a415791b-0870-4b49-b969-6d6f7267cb0a"
      },
      "execution_count": 21,
      "outputs": [
        {
          "output_type": "execute_result",
          "data": {
            "text/plain": [
              "Miami                           106966\n",
              "Los Angeles                      68956\n",
              "Orlando                          54691\n",
              "Dallas                           41979\n",
              "Houston                          39448\n",
              "                                 ...  \n",
              "Ridgedale                            1\n",
              "Sekiu                                1\n",
              "Wooldridge                           1\n",
              "Bullock                              1\n",
              "American Fork-Pleasant Grove         1\n",
              "Name: City, Length: 11681, dtype: int64"
            ]
          },
          "metadata": {},
          "execution_count": 21
        }
      ]
    },
    {
      "cell_type": "code",
      "source": [
        "#plotting top 20 cities which creates better visuals\n",
        "cities_by_accident[:20].plot(kind='barh')"
      ],
      "metadata": {
        "id": "DEjCa8Sk9WHK",
        "colab": {
          "base_uri": "https://localhost:8080/",
          "height": 282
        },
        "outputId": "091ff8c5-55c6-4853-88c8-c4d4237318f4"
      },
      "execution_count": 22,
      "outputs": [
        {
          "output_type": "execute_result",
          "data": {
            "text/plain": [
              "<matplotlib.axes._subplots.AxesSubplot at 0x7fc6570fe160>"
            ]
          },
          "metadata": {},
          "execution_count": 22
        },
        {
          "output_type": "display_data",
          "data": {
            "text/plain": [
              "<Figure size 432x288 with 1 Axes>"
            ],
            "image/png": "[encoded data removed]"
          },
          "metadata": {}
        }
      ]
    },
    {
      "cell_type": "code",
      "source": [
        "#plotting dist plot to get better idea \n",
        "sns.distplot(cities_by_accident)"
      ],
      "metadata": {
        "id": "u6aD75ER9nkd",
        "colab": {
          "base_uri": "https://localhost:8080/",
          "height": 351
        },
        "outputId": "38ca25a5-b0a4-4217-f290-15a98931a9a5"
      },
      "execution_count": 23,
      "outputs": [
        {
          "output_type": "stream",
          "name": "stderr",
          "text": [
            "/usr/local/lib/python3.8/dist-packages/seaborn/distributions.py:2619: FutureWarning: `distplot` is a deprecated function and will be removed in a future version. Please adapt your code to use either `displot` (a figure-level function with similar flexibility) or `histplot` (an axes-level function for histograms).\n",
            "  warnings.warn(msg, FutureWarning)\n"
          ]
        },
        {
          "output_type": "execute_result",
          "data": {
            "text/plain": [
              "<matplotlib.axes._subplots.AxesSubplot at 0x7fc60ab6c070>"
            ]
          },
          "metadata": {},
          "execution_count": 23
        },
        {
          "output_type": "display_data",
          "data": {
            "text/plain": [
              "<Figure size 432x288 with 1 Axes>"
            ],
            "image/png": "[encoded data removed]"
          },
          "metadata": {}
        }
      ]
    },
    {
      "cell_type": "code",
      "source": [
        "#the above dist plot doesnt give much insights about the data\n",
        "#we can take citites with more than 1000 accidents\n",
        "high_accidents = cities_by_accident[cities_by_accident > 1000]\n",
        "high_accidents"
      ],
      "metadata": {
        "id": "I_Ske8Y590ez",
        "colab": {
          "base_uri": "https://localhost:8080/"
        },
        "outputId": "7f2bc80d-2508-42e0-d512-89959cefb83e"
      },
      "execution_count": 24,
      "outputs": [
        {
          "output_type": "execute_result",
          "data": {
            "text/plain": [
              "Miami          106966\n",
              "Los Angeles     68956\n",
              "Orlando         54691\n",
              "Dallas          41979\n",
              "Houston         39448\n",
              "                ...  \n",
              "Camden           1009\n",
              "Victorville      1005\n",
              "Tualatin         1001\n",
              "Utica            1001\n",
              "Los Banos        1001\n",
              "Name: City, Length: 494, dtype: int64"
            ]
          },
          "metadata": {},
          "execution_count": 24
        }
      ]
    },
    {
      "cell_type": "code",
      "source": [
        "#checking how much percent of the cities have more than 1000 accidents\n",
        "percent_high_acc = (len(high_accidents)/ cities.nunique())* 100\n",
        "percent_high_acc"
      ],
      "metadata": {
        "id": "YoAbAMT3-2dS",
        "colab": {
          "base_uri": "https://localhost:8080/"
        },
        "outputId": "f2a3e5c3-76e8-4dd6-e55e-a923d9a41547"
      },
      "execution_count": 25,
      "outputs": [
        {
          "output_type": "execute_result",
          "data": {
            "text/plain": [
              "4.229089975173358"
            ]
          },
          "metadata": {},
          "execution_count": 25
        }
      ]
    },
    {
      "cell_type": "code",
      "source": [
        "#to get btter insights, plotting hist plot with log scale\n",
        "sns.histplot(cities_by_accident, log_scale=True)"
      ],
      "metadata": {
        "id": "aoLQmV-b_GqH",
        "colab": {
          "base_uri": "https://localhost:8080/",
          "height": 300
        },
        "outputId": "f057cc27-c415-4829-e781-404bc5d02330"
      },
      "execution_count": 26,
      "outputs": [
        {
          "output_type": "execute_result",
          "data": {
            "text/plain": [
              "<matplotlib.axes._subplots.AxesSubplot at 0x7fc60aa5b580>"
            ]
          },
          "metadata": {},
          "execution_count": 26
        },
        {
          "output_type": "display_data",
          "data": {
            "text/plain": [
              "<Figure size 432x288 with 1 Axes>"
            ],
            "image/png": "[encoded data removed]"
          },
          "metadata": {}
        }
      ]
    },
    {
      "cell_type": "code",
      "source": [
        "cities_by_accident[cities_by_accident == 1]"
      ],
      "metadata": {
        "id": "dwwxRqaX_gwl",
        "colab": {
          "base_uri": "https://localhost:8080/"
        },
        "outputId": "b265dd10-ffce-4926-eece-af23e7a11ae4"
      },
      "execution_count": 27,
      "outputs": [
        {
          "output_type": "execute_result",
          "data": {
            "text/plain": [
              "Carney                          1\n",
              "Waverly Hall                    1\n",
              "Center Sandwich                 1\n",
              "Glen Flora                      1\n",
              "Sulphur Springs                 1\n",
              "                               ..\n",
              "Ridgedale                       1\n",
              "Sekiu                           1\n",
              "Wooldridge                      1\n",
              "Bullock                         1\n",
              "American Fork-Pleasant Grove    1\n",
              "Name: City, Length: 1110, dtype: int64"
            ]
          },
          "metadata": {},
          "execution_count": 27
        }
      ]
    },
    {
      "cell_type": "code",
      "source": [
        "cities_by_accident[cities_by_accident < 10]"
      ],
      "metadata": {
        "id": "g2FLkuVY_qBX",
        "colab": {
          "base_uri": "https://localhost:8080/"
        },
        "outputId": "b31adccc-2353-44a2-e508-9bbd12c8cf58"
      },
      "execution_count": 28,
      "outputs": [
        {
          "output_type": "execute_result",
          "data": {
            "text/plain": [
              "Brimfield                       9\n",
              "Huntertown                      9\n",
              "Vidalia                         9\n",
              "Sunburst                        9\n",
              "Steamboat Rock                  9\n",
              "                               ..\n",
              "Ridgedale                       1\n",
              "Sekiu                           1\n",
              "Wooldridge                      1\n",
              "Bullock                         1\n",
              "American Fork-Pleasant Grove    1\n",
              "Name: City, Length: 4428, dtype: int64"
            ]
          },
          "metadata": {},
          "execution_count": 28
        }
      ]
    },
    {
      "cell_type": "markdown",
      "source": [
        "###Start_Time"
      ],
      "metadata": {
        "id": "Pj4h72axAK9o"
      }
    },
    {
      "cell_type": "code",
      "source": [
        "df.Start_Time"
      ],
      "metadata": {
        "id": "5D5CygOD_yO6",
        "colab": {
          "base_uri": "https://localhost:8080/"
        },
        "outputId": "96d97d07-991f-4162-c156-aa0cbd5b86fb"
      },
      "execution_count": 29,
      "outputs": [
        {
          "output_type": "execute_result",
          "data": {
            "text/plain": [
              "0          2016-02-08 00:37:08\n",
              "1          2016-02-08 05:56:20\n",
              "2          2016-02-08 06:15:39\n",
              "3          2016-02-08 06:51:45\n",
              "4          2016-02-08 07:53:43\n",
              "                  ...         \n",
              "2845337    2019-08-23 18:03:25\n",
              "2845338    2019-08-23 19:11:30\n",
              "2845339    2019-08-23 19:00:21\n",
              "2845340    2019-08-23 19:00:21\n",
              "2845341    2019-08-23 18:52:06\n",
              "Name: Start_Time, Length: 2845342, dtype: object"
            ]
          },
          "metadata": {},
          "execution_count": 29
        }
      ]
    },
    {
      "cell_type": "code",
      "source": [
        "df.Start_Time[0]"
      ],
      "metadata": {
        "id": "gI6I7O4ZAVkC",
        "colab": {
          "base_uri": "https://localhost:8080/",
          "height": 36
        },
        "outputId": "f4997448-87ef-4d47-bb70-6ba068607275"
      },
      "execution_count": 30,
      "outputs": [
        {
          "output_type": "execute_result",
          "data": {
            "text/plain": [
              "'2016-02-08 00:37:08'"
            ],
            "application/vnd.google.colaboratory.intrinsic+json": {
              "type": "string"
            }
          },
          "metadata": {},
          "execution_count": 30
        }
      ]
    },
    {
      "cell_type": "code",
      "source": [
        "#the above data is String datatype in Datetime format\n",
        "#Changing the datatype to datatime\n",
        "df.Start_Time = pd.to_datetime(df.Start_Time)\n",
        "df.Start_Time"
      ],
      "metadata": {
        "id": "yziku1EmAhG7",
        "colab": {
          "base_uri": "https://localhost:8080/"
        },
        "outputId": "304ba886-46ad-4aac-ae4d-59102267517b"
      },
      "execution_count": 31,
      "outputs": [
        {
          "output_type": "execute_result",
          "data": {
            "text/plain": [
              "0         2016-02-08 00:37:08\n",
              "1         2016-02-08 05:56:20\n",
              "2         2016-02-08 06:15:39\n",
              "3         2016-02-08 06:51:45\n",
              "4         2016-02-08 07:53:43\n",
              "                  ...        \n",
              "2845337   2019-08-23 18:03:25\n",
              "2845338   2019-08-23 19:11:30\n",
              "2845339   2019-08-23 19:00:21\n",
              "2845340   2019-08-23 19:00:21\n",
              "2845341   2019-08-23 18:52:06\n",
              "Name: Start_Time, Length: 2845342, dtype: datetime64[ns]"
            ]
          },
          "metadata": {},
          "execution_count": 31
        }
      ]
    },
    {
      "cell_type": "code",
      "source": [
        "#it is best to visualize the hourly data along with normalizing and bins is 24 as there are 24 hours in a day\n",
        "sns.distplot(df.Start_Time.dt.hour, bins=24, norm_hist=True ,kde=False)"
      ],
      "metadata": {
        "id": "FrS94LcWAnjX",
        "colab": {
          "base_uri": "https://localhost:8080/",
          "height": 352
        },
        "outputId": "b0816d1a-5cd6-4291-9ad2-c7fcf39c9ae3"
      },
      "execution_count": 32,
      "outputs": [
        {
          "output_type": "stream",
          "name": "stderr",
          "text": [
            "/usr/local/lib/python3.8/dist-packages/seaborn/distributions.py:2619: FutureWarning: `distplot` is a deprecated function and will be removed in a future version. Please adapt your code to use either `displot` (a figure-level function with similar flexibility) or `histplot` (an axes-level function for histograms).\n",
            "  warnings.warn(msg, FutureWarning)\n"
          ]
        },
        {
          "output_type": "execute_result",
          "data": {
            "text/plain": [
              "<matplotlib.axes._subplots.AxesSubplot at 0x7fc60b201070>"
            ]
          },
          "metadata": {},
          "execution_count": 32
        },
        {
          "output_type": "display_data",
          "data": {
            "text/plain": [
              "<Figure size 432x288 with 1 Axes>"
            ],
            "image/png": "[encoded data removed]"
          },
          "metadata": {}
        }
      ]
    },
    {
      "cell_type": "code",
      "source": [
        "#to know which day of the week the accidents occur more often\n",
        "sns.distplot(df.Start_Time.dt.dayofweek, bins=7, norm_hist=True, kde=False)"
      ],
      "metadata": {
        "id": "JOxzlymXBECn",
        "colab": {
          "base_uri": "https://localhost:8080/",
          "height": 297
        },
        "outputId": "5d5dab8f-fc5b-4967-c9cb-252c93fb4b3e"
      },
      "execution_count": 33,
      "outputs": [
        {
          "output_type": "execute_result",
          "data": {
            "text/plain": [
              "<matplotlib.axes._subplots.AxesSubplot at 0x7fc605fa6cd0>"
            ]
          },
          "metadata": {},
          "execution_count": 33
        },
        {
          "output_type": "display_data",
          "data": {
            "text/plain": [
              "<Figure size 432x288 with 1 Axes>"
            ],
            "image/png": "[encoded data removed]"
          },
          "metadata": {}
        }
      ]
    },
    {
      "cell_type": "code",
      "source": [
        "#exploring weekend date(Saturday)\n",
        "sat_data = df.Start_Time[df.Start_Time.dt.dayofweek==5]\n",
        "sns.distplot(sat_data.dt.hour, bins=24, norm_hist=True, kde=False)"
      ],
      "metadata": {
        "id": "yafO1P6wBrpK",
        "colab": {
          "base_uri": "https://localhost:8080/",
          "height": 297
        },
        "outputId": "1be757f5-b180-4440-bfba-26d1c4d1c070"
      },
      "execution_count": 34,
      "outputs": [
        {
          "output_type": "execute_result",
          "data": {
            "text/plain": [
              "<matplotlib.axes._subplots.AxesSubplot at 0x7fc605f0c160>"
            ]
          },
          "metadata": {},
          "execution_count": 34
        },
        {
          "output_type": "display_data",
          "data": {
            "text/plain": [
              "<Figure size 432x288 with 1 Axes>"
            ],
            "image/png": "[encoded data removed]"
          },
          "metadata": {}
        }
      ]
    },
    {
      "cell_type": "markdown",
      "source": [
        "###Latitude and Longitude"
      ],
      "metadata": {
        "id": "-sGJKhBWCcPt"
      }
    },
    {
      "cell_type": "code",
      "source": [
        "df.Start_Lat"
      ],
      "metadata": {
        "id": "NwJPBaH6CDpn",
        "colab": {
          "base_uri": "https://localhost:8080/"
        },
        "outputId": "416a4789-fb01-4a6d-982b-1a1fe3e0c7ce"
      },
      "execution_count": 35,
      "outputs": [
        {
          "output_type": "execute_result",
          "data": {
            "text/plain": [
              "0          40.108910\n",
              "1          39.865420\n",
              "2          39.102660\n",
              "3          41.062130\n",
              "4          39.172393\n",
              "             ...    \n",
              "2845337    34.002480\n",
              "2845338    32.766960\n",
              "2845339    33.775450\n",
              "2845340    33.992460\n",
              "2845341    34.133930\n",
              "Name: Start_Lat, Length: 2845342, dtype: float64"
            ]
          },
          "metadata": {},
          "execution_count": 35
        }
      ]
    },
    {
      "cell_type": "code",
      "source": [
        "df.Start_Lng"
      ],
      "metadata": {
        "id": "WsG0Fz9jCj0q",
        "colab": {
          "base_uri": "https://localhost:8080/"
        },
        "outputId": "78cfcb9a-2c0f-4055-a77c-79bff9991dad"
      },
      "execution_count": 36,
      "outputs": [
        {
          "output_type": "execute_result",
          "data": {
            "text/plain": [
              "0          -83.092860\n",
              "1          -84.062800\n",
              "2          -84.524680\n",
              "3          -81.537840\n",
              "4          -84.492792\n",
              "              ...    \n",
              "2845337   -117.379360\n",
              "2845338   -117.148060\n",
              "2845339   -117.847790\n",
              "2845340   -118.403020\n",
              "2845341   -117.230920\n",
              "Name: Start_Lng, Length: 2845342, dtype: float64"
            ]
          },
          "metadata": {},
          "execution_count": 36
        }
      ]
    },
    {
      "cell_type": "code",
      "source": [
        "#Creating sample out of main df for getting better visualization of data(10% of total rows)\n",
        "sample_df = df.sample(int(0.1* len(df)))\n",
        "sample_df"
      ],
      "metadata": {
        "id": "QtqkM-lmCleU",
        "colab": {
          "base_uri": "https://localhost:8080/",
          "height": 1000
        },
        "outputId": "bfe448e2-e400-4010-acc2-fe282dfd72b8"
      },
      "execution_count": 37,
      "outputs": [
        {
          "output_type": "execute_result",
          "data": {
            "text/plain": [
              "                ID  Severity          Start_Time  \\\n",
              "1402386  A-1402387         2 2021-12-25 20:37:00   \n",
              "1825696  A-1825697         2 2020-09-10 21:31:30   \n",
              "132305    A-132306         3 2016-07-03 19:43:03   \n",
              "2173664  A-2173665         2 2020-06-15 21:36:06   \n",
              "2225015  A-2225016         2 2020-03-28 18:35:56   \n",
              "...            ...       ...                 ...   \n",
              "282461    A-282462         2 2021-06-01 07:21:10   \n",
              "417540    A-417541         2 2021-10-24 23:34:01   \n",
              "2814615  A-2814616         2 2019-08-26 16:36:26   \n",
              "488480    A-488481         2 2021-04-22 17:48:49   \n",
              "1147321  A-1147322         2 2021-08-31 19:24:00   \n",
              "\n",
              "                              End_Time  Start_Lat   Start_Lng    End_Lat  \\\n",
              "1402386  2021-12-25 21:56:27.000000000  33.991270 -117.888878  33.991634   \n",
              "1825696            2020-09-11 00:06:30  38.862525  -77.069010  38.867027   \n",
              "132305             2016-07-04 01:43:03  33.849169 -117.816461  33.844480   \n",
              "2173664            2020-06-15 22:06:06  42.474480  -83.110530  42.474480   \n",
              "2225015            2020-03-28 19:05:56  35.335200  -80.825010  35.335200   \n",
              "...                                ...        ...         ...        ...   \n",
              "282461             2021-06-01 09:52:21  35.003399  -81.017475  35.004446   \n",
              "417540             2021-10-25 00:54:27  32.750351 -117.130155  32.752196   \n",
              "2814615            2019-08-26 17:04:43  36.261234  -83.174647  36.261537   \n",
              "488480   2021-04-22 19:30:11.000000000  32.655198  -96.750577  32.654102   \n",
              "1147321            2021-08-31 20:45:24  38.668380 -121.367809  38.668371   \n",
              "\n",
              "            End_Lng  Distance(mi)  \\\n",
              "1402386 -117.888828         0.025   \n",
              "1825696  -77.062431         0.471   \n",
              "132305  -117.826050         0.639   \n",
              "2173664  -83.110530         0.000   \n",
              "2225015  -80.825010         0.000   \n",
              "...             ...           ...   \n",
              "282461   -81.017250         0.073   \n",
              "417540  -117.130157         0.127   \n",
              "2814615  -83.171358         0.184   \n",
              "488480   -96.756660         0.362   \n",
              "1147321 -121.366843         0.052   \n",
              "\n",
              "                                               Description  ...  Roundabout  \\\n",
              "1402386  Incident on NOGALES ST near HOUSE 1425 Expect ...  ...       False   \n",
              "1825696  Stationary traffic on I-395 from VA-27/8th St/...  ...       False   \n",
              "132305                 At CA-55/Costa Mesa Fwy - Accident.  ...       False   \n",
              "2173664  Ramp to I-696/Walter P Reuther Fwy - Accident....  ...       False   \n",
              "2225015                    At W Sugar Creek Rd - Accident.  ...       False   \n",
              "...                                                    ...  ...         ...   \n",
              "282461   Incident on INDIA HOOK RD near MT GALLANT RD D...  ...       False   \n",
              "417540   Incident on 30TH ST near LINCOLN AVE Drive wit...  ...       False   \n",
              "2814615  At Rogersville - Overturned heavy truck. Lane ...  ...       False   \n",
              "488480   Incident on LBJ WB near BONNIE VIEW RD Drive w...  ...       False   \n",
              "1147321  Incident on PALM AVE near HOUSE 4141 Drive wit...  ...       False   \n",
              "\n",
              "        Station   Stop Traffic_Calming Traffic_Signal Turning_Loop  \\\n",
              "1402386   False  False           False          False        False   \n",
              "1825696   False  False           False          False        False   \n",
              "132305    False  False           False          False        False   \n",
              "2173664   False  False           False          False        False   \n",
              "2225015   False  False           False           True        False   \n",
              "...         ...    ...             ...            ...          ...   \n",
              "282461    False  False           False           True        False   \n",
              "417540     True  False           False           True        False   \n",
              "2814615   False  False           False          False        False   \n",
              "488480    False  False           False          False        False   \n",
              "1147321   False  False           False          False        False   \n",
              "\n",
              "        Sunrise_Sunset Civil_Twilight Nautical_Twilight Astronomical_Twilight  \n",
              "1402386          Night          Night             Night                 Night  \n",
              "1825696          Night          Night             Night                 Night  \n",
              "132305             Day            Day               Day                   Day  \n",
              "2173664          Night            Day               Day                   Day  \n",
              "2225015            Day            Day               Day                   Day  \n",
              "...                ...            ...               ...                   ...  \n",
              "282461             Day            Day               Day                   Day  \n",
              "417540           Night          Night             Night                 Night  \n",
              "2814615            Day            Day               Day                   Day  \n",
              "488480             Day            Day               Day                   Day  \n",
              "1147321            Day            Day               Day                   Day  \n",
              "\n",
              "[284534 rows x 47 columns]"
            ],
            "text/html": [
              "\n",
              "  <div id=\"df-73fd29b0-ce69-4d29-9ade-8804080d3049\">\n",
              "    <div class=\"colab-df-container\">\n",
              "      <div>\n",
              "<style scoped>\n",
              "    .dataframe tbody tr th:only-of-type {\n",
              "        vertical-align: middle;\n",
              "    }\n",
              "\n",
              "    .dataframe tbody tr th {\n",
              "        vertical-align: top;\n",
              "    }\n",
              "\n",
              "    .dataframe thead th {\n",
              "        text-align: right;\n",
              "    }\n",
              "</style>\n",
              "<table border=\"1\" class=\"dataframe\">\n",
              "  <thead>\n",
              "    <tr style=\"text-align: right;\">\n",
              "      <th></th>\n",
              "      <th>ID</th>\n",
              "      <th>Severity</th>\n",
              "      <th>Start_Time</th>\n",
              "      <th>End_Time</th>\n",
              "      <th>Start_Lat</th>\n",
              "      <th>Start_Lng</th>\n",
              "      <th>End_Lat</th>\n",
              "      <th>End_Lng</th>\n",
              "      <th>Distance(mi)</th>\n",
              "      <th>Description</th>\n",
              "      <th>...</th>\n",
              "      <th>Roundabout</th>\n",
              "      <th>Station</th>\n",
              "      <th>Stop</th>\n",
              "      <th>Traffic_Calming</th>\n",
              "      <th>Traffic_Signal</th>\n",
              "      <th>Turning_Loop</th>\n",
              "      <th>Sunrise_Sunset</th>\n",
              "      <th>Civil_Twilight</th>\n",
              "      <th>Nautical_Twilight</th>\n",
              "      <th>Astronomical_Twilight</th>\n",
              "    </tr>\n",
              "  </thead>\n",
              "  <tbody>\n",
              "    <tr>\n",
              "      <th>1402386</th>\n",
              "      <td>A-1402387</td>\n",
              "      <td>2</td>\n",
              "      <td>2021-12-25 20:37:00</td>\n",
              "      <td>2021-12-25 21:56:27.000000000</td>\n",
              "      <td>33.991270</td>\n",
              "      <td>-117.888878</td>\n",
              "      <td>33.991634</td>\n",
              "      <td>-117.888828</td>\n",
              "      <td>0.025</td>\n",
              "      <td>Incident on NOGALES ST near HOUSE 1425 Expect ...</td>\n",
              "      <td>...</td>\n",
              "      <td>False</td>\n",
              "      <td>False</td>\n",
              "      <td>False</td>\n",
              "      <td>False</td>\n",
              "      <td>False</td>\n",
              "      <td>False</td>\n",
              "      <td>Night</td>\n",
              "      <td>Night</td>\n",
              "      <td>Night</td>\n",
              "      <td>Night</td>\n",
              "    </tr>\n",
              "    <tr>\n",
              "      <th>1825696</th>\n",
              "      <td>A-1825697</td>\n",
              "      <td>2</td>\n",
              "      <td>2020-09-10 21:31:30</td>\n",
              "      <td>2020-09-11 00:06:30</td>\n",
              "      <td>38.862525</td>\n",
              "      <td>-77.069010</td>\n",
              "      <td>38.867027</td>\n",
              "      <td>-77.062431</td>\n",
              "      <td>0.471</td>\n",
              "      <td>Stationary traffic on I-395 from VA-27/8th St/...</td>\n",
              "      <td>...</td>\n",
              "      <td>False</td>\n",
              "      <td>False</td>\n",
              "      <td>False</td>\n",
              "      <td>False</td>\n",
              "      <td>False</td>\n",
              "      <td>False</td>\n",
              "      <td>Night</td>\n",
              "      <td>Night</td>\n",
              "      <td>Night</td>\n",
              "      <td>Night</td>\n",
              "    </tr>\n",
              "    <tr>\n",
              "      <th>132305</th>\n",
              "      <td>A-132306</td>\n",
              "      <td>3</td>\n",
              "      <td>2016-07-03 19:43:03</td>\n",
              "      <td>2016-07-04 01:43:03</td>\n",
              "      <td>33.849169</td>\n",
              "      <td>-117.816461</td>\n",
              "      <td>33.844480</td>\n",
              "      <td>-117.826050</td>\n",
              "      <td>0.639</td>\n",
              "      <td>At CA-55/Costa Mesa Fwy - Accident.</td>\n",
              "      <td>...</td>\n",
              "      <td>False</td>\n",
              "      <td>False</td>\n",
              "      <td>False</td>\n",
              "      <td>False</td>\n",
              "      <td>False</td>\n",
              "      <td>False</td>\n",
              "      <td>Day</td>\n",
              "      <td>Day</td>\n",
              "      <td>Day</td>\n",
              "      <td>Day</td>\n",
              "    </tr>\n",
              "    <tr>\n",
              "      <th>2173664</th>\n",
              "      <td>A-2173665</td>\n",
              "      <td>2</td>\n",
              "      <td>2020-06-15 21:36:06</td>\n",
              "      <td>2020-06-15 22:06:06</td>\n",
              "      <td>42.474480</td>\n",
              "      <td>-83.110530</td>\n",
              "      <td>42.474480</td>\n",
              "      <td>-83.110530</td>\n",
              "      <td>0.000</td>\n",
              "      <td>Ramp to I-696/Walter P Reuther Fwy - Accident....</td>\n",
              "      <td>...</td>\n",
              "      <td>False</td>\n",
              "      <td>False</td>\n",
              "      <td>False</td>\n",
              "      <td>False</td>\n",
              "      <td>False</td>\n",
              "      <td>False</td>\n",
              "      <td>Night</td>\n",
              "      <td>Day</td>\n",
              "      <td>Day</td>\n",
              "      <td>Day</td>\n",
              "    </tr>\n",
              "    <tr>\n",
              "      <th>2225015</th>\n",
              "      <td>A-2225016</td>\n",
              "      <td>2</td>\n",
              "      <td>2020-03-28 18:35:56</td>\n",
              "      <td>2020-03-28 19:05:56</td>\n",
              "      <td>35.335200</td>\n",
              "      <td>-80.825010</td>\n",
              "      <td>35.335200</td>\n",
              "      <td>-80.825010</td>\n",
              "      <td>0.000</td>\n",
              "      <td>At W Sugar Creek Rd - Accident.</td>\n",
              "      <td>...</td>\n",
              "      <td>False</td>\n",
              "      <td>False</td>\n",
              "      <td>False</td>\n",
              "      <td>False</td>\n",
              "      <td>True</td>\n",
              "      <td>False</td>\n",
              "      <td>Day</td>\n",
              "      <td>Day</td>\n",
              "      <td>Day</td>\n",
              "      <td>Day</td>\n",
              "    </tr>\n",
              "    <tr>\n",
              "      <th>...</th>\n",
              "      <td>...</td>\n",
              "      <td>...</td>\n",
              "      <td>...</td>\n",
              "      <td>...</td>\n",
              "      <td>...</td>\n",
              "      <td>...</td>\n",
              "      <td>...</td>\n",
              "      <td>...</td>\n",
              "      <td>...</td>\n",
              "      <td>...</td>\n",
              "      <td>...</td>\n",
              "      <td>...</td>\n",
              "      <td>...</td>\n",
              "      <td>...</td>\n",
              "      <td>...</td>\n",
              "      <td>...</td>\n",
              "      <td>...</td>\n",
              "      <td>...</td>\n",
              "      <td>...</td>\n",
              "      <td>...</td>\n",
              "      <td>...</td>\n",
              "    </tr>\n",
              "    <tr>\n",
              "      <th>282461</th>\n",
              "      <td>A-282462</td>\n",
              "      <td>2</td>\n",
              "      <td>2021-06-01 07:21:10</td>\n",
              "      <td>2021-06-01 09:52:21</td>\n",
              "      <td>35.003399</td>\n",
              "      <td>-81.017475</td>\n",
              "      <td>35.004446</td>\n",
              "      <td>-81.017250</td>\n",
              "      <td>0.073</td>\n",
              "      <td>Incident on INDIA HOOK RD near MT GALLANT RD D...</td>\n",
              "      <td>...</td>\n",
              "      <td>False</td>\n",
              "      <td>False</td>\n",
              "      <td>False</td>\n",
              "      <td>False</td>\n",
              "      <td>True</td>\n",
              "      <td>False</td>\n",
              "      <td>Day</td>\n",
              "      <td>Day</td>\n",
              "      <td>Day</td>\n",
              "      <td>Day</td>\n",
              "    </tr>\n",
              "    <tr>\n",
              "      <th>417540</th>\n",
              "      <td>A-417541</td>\n",
              "      <td>2</td>\n",
              "      <td>2021-10-24 23:34:01</td>\n",
              "      <td>2021-10-25 00:54:27</td>\n",
              "      <td>32.750351</td>\n",
              "      <td>-117.130155</td>\n",
              "      <td>32.752196</td>\n",
              "      <td>-117.130157</td>\n",
              "      <td>0.127</td>\n",
              "      <td>Incident on 30TH ST near LINCOLN AVE Drive wit...</td>\n",
              "      <td>...</td>\n",
              "      <td>False</td>\n",
              "      <td>True</td>\n",
              "      <td>False</td>\n",
              "      <td>False</td>\n",
              "      <td>True</td>\n",
              "      <td>False</td>\n",
              "      <td>Night</td>\n",
              "      <td>Night</td>\n",
              "      <td>Night</td>\n",
              "      <td>Night</td>\n",
              "    </tr>\n",
              "    <tr>\n",
              "      <th>2814615</th>\n",
              "      <td>A-2814616</td>\n",
              "      <td>2</td>\n",
              "      <td>2019-08-26 16:36:26</td>\n",
              "      <td>2019-08-26 17:04:43</td>\n",
              "      <td>36.261234</td>\n",
              "      <td>-83.174647</td>\n",
              "      <td>36.261537</td>\n",
              "      <td>-83.171358</td>\n",
              "      <td>0.184</td>\n",
              "      <td>At Rogersville - Overturned heavy truck. Lane ...</td>\n",
              "      <td>...</td>\n",
              "      <td>False</td>\n",
              "      <td>False</td>\n",
              "      <td>False</td>\n",
              "      <td>False</td>\n",
              "      <td>False</td>\n",
              "      <td>False</td>\n",
              "      <td>Day</td>\n",
              "      <td>Day</td>\n",
              "      <td>Day</td>\n",
              "      <td>Day</td>\n",
              "    </tr>\n",
              "    <tr>\n",
              "      <th>488480</th>\n",
              "      <td>A-488481</td>\n",
              "      <td>2</td>\n",
              "      <td>2021-04-22 17:48:49</td>\n",
              "      <td>2021-04-22 19:30:11.000000000</td>\n",
              "      <td>32.655198</td>\n",
              "      <td>-96.750577</td>\n",
              "      <td>32.654102</td>\n",
              "      <td>-96.756660</td>\n",
              "      <td>0.362</td>\n",
              "      <td>Incident on LBJ WB near BONNIE VIEW RD Drive w...</td>\n",
              "      <td>...</td>\n",
              "      <td>False</td>\n",
              "      <td>False</td>\n",
              "      <td>False</td>\n",
              "      <td>False</td>\n",
              "      <td>False</td>\n",
              "      <td>False</td>\n",
              "      <td>Day</td>\n",
              "      <td>Day</td>\n",
              "      <td>Day</td>\n",
              "      <td>Day</td>\n",
              "    </tr>\n",
              "    <tr>\n",
              "      <th>1147321</th>\n",
              "      <td>A-1147322</td>\n",
              "      <td>2</td>\n",
              "      <td>2021-08-31 19:24:00</td>\n",
              "      <td>2021-08-31 20:45:24</td>\n",
              "      <td>38.668380</td>\n",
              "      <td>-121.367809</td>\n",
              "      <td>38.668371</td>\n",
              "      <td>-121.366843</td>\n",
              "      <td>0.052</td>\n",
              "      <td>Incident on PALM AVE near HOUSE 4141 Drive wit...</td>\n",
              "      <td>...</td>\n",
              "      <td>False</td>\n",
              "      <td>False</td>\n",
              "      <td>False</td>\n",
              "      <td>False</td>\n",
              "      <td>False</td>\n",
              "      <td>False</td>\n",
              "      <td>Day</td>\n",
              "      <td>Day</td>\n",
              "      <td>Day</td>\n",
              "      <td>Day</td>\n",
              "    </tr>\n",
              "  </tbody>\n",
              "</table>\n",
              "<p>284534 rows × 47 columns</p>\n",
              "</div>\n",
              "      <button class=\"colab-df-convert\" onclick=\"convertToInteractive('df-73fd29b0-ce69-4d29-9ade-8804080d3049')\"\n",
              "              title=\"Convert this dataframe to an interactive table.\"\n",
              "              style=\"display:none;\">\n",
              "        \n",
              "  <svg xmlns=\"http://www.w3.org/2000/svg\" height=\"24px\"viewBox=\"0 0 24 24\"\n",
              "       width=\"24px\">\n",
              "    <path d=\"M0 0h24v24H0V0z\" fill=\"none\"/>\n",
              "    <path d=\"M18.56 5.44l.94 2.06.94-2.06 2.06-.94-2.06-.94-.94-2.06-.94 2.06-2.06.94zm-11 1L8.5 8.5l.94-2.06 2.06-.94-2.06-.94L8.5 2.5l-.94 2.06-2.06.94zm10 10l.94 2.06.94-2.06 2.06-.94-2.06-.94-.94-2.06-.94 2.06-2.06.94z\"/><path d=\"M17.41 7.96l-1.37-1.37c-.4-.4-.92-.59-1.43-.59-.52 0-1.04.2-1.43.59L10.3 9.45l-7.72 7.72c-.78.78-.78 2.05 0 2.83L4 21.41c.39.39.9.59 1.41.59.51 0 1.02-.2 1.41-.59l7.78-7.78 2.81-2.81c.8-.78.8-2.07 0-2.86zM5.41 20L4 18.59l7.72-7.72 1.47 1.35L5.41 20z\"/>\n",
              "  </svg>\n",
              "      </button>\n",
              "      \n",
              "  <style>\n",
              "    .colab-df-container {\n",
              "      display:flex;\n",
              "      flex-wrap:wrap;\n",
              "      gap: 12px;\n",
              "    }\n",
              "\n",
              "    .colab-df-convert {\n",
              "      background-color: #E8F0FE;\n",
              "      border: none;\n",
              "      border-radius: 50%;\n",
              "      cursor: pointer;\n",
              "      display: none;\n",
              "      fill: #1967D2;\n",
              "      height: 32px;\n",
              "      padding: 0 0 0 0;\n",
              "      width: 32px;\n",
              "    }\n",
              "\n",
              "    .colab-df-convert:hover {\n",
              "      background-color: #E2EBFA;\n",
              "      box-shadow: 0px 1px 2px rgba(60, 64, 67, 0.3), 0px 1px 3px 1px rgba(60, 64, 67, 0.15);\n",
              "      fill: #174EA6;\n",
              "    }\n",
              "\n",
              "    [theme=dark] .colab-df-convert {\n",
              "      background-color: #3B4455;\n",
              "      fill: #D2E3FC;\n",
              "    }\n",
              "\n",
              "    [theme=dark] .colab-df-convert:hover {\n",
              "      background-color: #434B5C;\n",
              "      box-shadow: 0px 1px 3px 1px rgba(0, 0, 0, 0.15);\n",
              "      filter: drop-shadow(0px 1px 2px rgba(0, 0, 0, 0.3));\n",
              "      fill: #FFFFFF;\n",
              "    }\n",
              "  </style>\n",
              "\n",
              "      <script>\n",
              "        const buttonEl =\n",
              "          document.querySelector('#df-73fd29b0-ce69-4d29-9ade-8804080d3049 button.colab-df-convert');\n",
              "        buttonEl.style.display =\n",
              "          google.colab.kernel.accessAllowed ? 'block' : 'none';\n",
              "\n",
              "        async function convertToInteractive(key) {\n",
              "          const element = document.querySelector('#df-73fd29b0-ce69-4d29-9ade-8804080d3049');\n",
              "          const dataTable =\n",
              "            await google.colab.kernel.invokeFunction('convertToInteractive',\n",
              "                                                     [key], {});\n",
              "          if (!dataTable) return;\n",
              "\n",
              "          const docLinkHtml = 'Like what you see? Visit the ' +\n",
              "            '<a target=\"_blank\" href=https://colab.research.google.com/notebooks/data_table.ipynb>data table notebook</a>'\n",
              "            + ' to learn more about interactive tables.';\n",
              "          element.innerHTML = '';\n",
              "          dataTable['output_type'] = 'display_data';\n",
              "          await google.colab.output.renderOutput(dataTable, element);\n",
              "          const docLink = document.createElement('div');\n",
              "          docLink.innerHTML = docLinkHtml;\n",
              "          element.appendChild(docLink);\n",
              "        }\n",
              "      </script>\n",
              "    </div>\n",
              "  </div>\n",
              "  "
            ]
          },
          "metadata": {},
          "execution_count": 37
        }
      ]
    },
    {
      "cell_type": "code",
      "source": [
        "sns.scatterplot(x=sample_df.Start_Lng, y= sample_df.Start_Lat, size=0.001)"
      ],
      "metadata": {
        "id": "n5WzA-_yC_HZ",
        "colab": {
          "base_uri": "https://localhost:8080/",
          "height": 299
        },
        "outputId": "dab2a37e-bebc-4613-d5ba-7d057fd9dae3"
      },
      "execution_count": 38,
      "outputs": [
        {
          "output_type": "execute_result",
          "data": {
            "text/plain": [
              "<matplotlib.axes._subplots.AxesSubplot at 0x7fc605e83bb0>"
            ]
          },
          "metadata": {},
          "execution_count": 38
        },
        {
          "output_type": "display_data",
          "data": {
            "text/plain": [
              "<Figure size 432x288 with 1 Axes>"
            ],
            "image/png": "[encoded data removed]"
          },
          "metadata": {}
        }
      ]
    },
    {
      "cell_type": "markdown",
      "source": [
        "#Insights:\n",
        "\n",
        "\n",
        "* Less than 4.5% of cities or a total of 494 Cities had more than 1000 accidents\n",
        "* There is no New York city Data in the dataset\n",
        "* More than 4400 cities have less than 10 Accidents over a period of 6 Years\n",
        "* During weekdays most of the accidents happened during 06AM to 09AM and 03PM to 06PM may be because this is the time for office and home commute\n",
        "* Weekend Chart is bell curve quite opposite to weekday accidents and has happened b/w 10AM to 03PM\n",
        "* Accidents were more in the Coastal areas and centre region seems to be less accident prone zone\n",
        "\n",
        "\n",
        "\n",
        "\n",
        "\n"
      ],
      "metadata": {
        "id": "1x_pAlMqDk3H"
      }
    }
  ]
}